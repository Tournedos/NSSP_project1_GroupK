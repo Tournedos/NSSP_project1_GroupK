{
 "cells": [
  {
   "cell_type": "code",
   "execution_count": 1,
   "metadata": {},
   "outputs": [
    {
     "name": "stderr",
     "output_type": "stream",
     "text": [
      "Gtk-Message: 15:10:07.746: Failed to load module \"canberra-gtk-module\"\n"
     ]
    }
   ],
   "source": [
    "%gui wx\n",
    "import sys\n",
    "import os\n",
    "\n",
    "#####################\n",
    "# Import of utils.py functions\n",
    "#####################\n",
    "# Required to get utils.py and access its functions\n",
    "notebook_dir = os.path.abspath(\"\")\n",
    "parent_dir = os.path.abspath(os.path.join(notebook_dir, '..'))\n",
    "sys.path.append(parent_dir)\n",
    "sys.path.append('.')\n",
    "from utils import loadFSL, FSLeyesServer, mkdir_no_exist\n",
    "\n",
    "####################\n",
    "# DIPY_HOME should be set prior to import of dipy to make sure all downloads point to the right folder\n",
    "####################\n",
    "os.environ[\"DIPY_HOME\"] = \"/home/jovyan/Data\"\n",
    "\n",
    "\n",
    "#############################\n",
    "# Loading fsl and freesurfer within Neurodesk\n",
    "# You can find the list of available other modules by clicking on the \"Softwares\" tab on the left\n",
    "#############################\n",
    "import lmod\n",
    "await lmod.purge(force=True)\n",
    "await lmod.load('fsl/6.0.7.4')\n",
    "await lmod.load('freesurfer/7.4.1')\n",
    "await lmod.list()\n",
    "\n",
    "####################\n",
    "# Setup FSL path\n",
    "####################\n",
    "loadFSL()\n",
    "\n",
    "###################\n",
    "# Load all relevant libraries\n",
    "##################\n",
    "import fsl.wrappers\n",
    "from fsl.wrappers import fslmaths\n",
    "\n",
    "import mne_nirs\n",
    "import nilearn\n",
    "from nilearn.datasets import fetch_development_fmri\n",
    "\n",
    "import mne\n",
    "import mne_nirs\n",
    "import dipy\n",
    "from dipy.data import fetch_bundles_2_subjects, read_bundles_2_subjects\n",
    "import xml.etree.ElementTree as ET\n",
    "import os.path as op\n",
    "import nibabel as nib\n",
    "import glob\n",
    "\n",
    "import ants\n",
    "\n",
    "\n",
    "from mne.datasets import sample\n",
    "from mne_bids import BIDSPath, read_raw_bids, print_dir_tree, make_report\n",
    "\n",
    "\n",
    "# Useful imports to define the direct download function below\n",
    "import requests\n",
    "import urllib.request\n",
    "from tqdm import tqdm\n",
    "\n",
    "\n",
    "# FSL function wrappers which we will call from python directly\n",
    "from fsl.wrappers import fast, bet\n",
    "from fsl.wrappers.misc import fslroi\n",
    "from fsl.wrappers import flirt\n",
    "\n",
    "# General purpose imports to handle paths, files etc\n",
    "import glob\n",
    "import pandas as pd\n",
    "import numpy as np\n",
    "import json\n",
    "import subprocess"
   ]
  },
  {
   "cell_type": "code",
   "execution_count": 2,
   "metadata": {},
   "outputs": [
    {
     "name": "stderr",
     "output_type": "stream",
     "text": [
      "15:10:16: Debug: Adding duplicate image handler for 'Windows bitmap file'\n",
      "15:10:16: Debug: Adding duplicate animation handler for '1' type\n",
      "15:10:16: Debug: Adding duplicate animation handler for '2' type\n",
      "15:10:16: Debug: Adding duplicate image handler for 'Windows bitmap file'\n",
      "15:10:16: Debug: Adding duplicate animation handler for '1' type\n",
      "15:10:16: Debug: Adding duplicate animation handler for '2' type\n",
      "\n",
      "(ipykernel_launcher.py:11063): Gtk-CRITICAL **: 15:10:17.014: gtk_window_resize: assertion 'height > 0' failed\n"
     ]
    }
   ],
   "source": [
    "################\n",
    "# Start FSLeyes (very neat tool to visualize MRI data of all sorts) within Python\n",
    "################\n",
    "fsleyesDisplay = FSLeyesServer()\n",
    "fsleyesDisplay.show()"
   ]
  },
  {
   "cell_type": "code",
   "execution_count": 4,
   "metadata": {},
   "outputs": [],
   "source": [
    "# organisation of directory and creation of preprocessing folders\n",
    "dataset_id = 'subject101410'\n",
    "subject = '101410' \n",
    "\n",
    "sample_path = \"/home/jovyan/data\"\n",
    "mkdir_no_exist(sample_path)\n",
    "bids_root = op.join(sample_path, dataset_id)\n",
    "deriv_root = op.join(bids_root, 'derivatives')\n",
    "preproc_root = op.join(bids_root, 'derivatives','preprocessed_data')\n",
    "\n",
    "mkdir_no_exist(bids_root)\n",
    "\n",
    "subject_dir = 'sub-{}'.format(subject)\n",
    "\n",
    "\n",
    "\n",
    "###################\n",
    "# Create folders relevant for preprocessing.\n",
    "# In BIDs, ANYTHING we modify must go in the derivatives folder, to keep original files clean in case we make a mistake.\n",
    "###################\n",
    "mkdir_no_exist(op.join(bids_root, 'derivatives'))\n",
    "preproc_root = op.join(bids_root, 'derivatives','preprocessed_data')\n",
    "mkdir_no_exist(preproc_root)\n",
    "mkdir_no_exist(op.join(preproc_root, 'sub-101410'))\n",
    "mkdir_no_exist(op.join(preproc_root, 'sub-101410', 'anat'))\n",
    "mkdir_no_exist(op.join(preproc_root, 'sub-101410', 'func'))\n",
    "mkdir_no_exist(op.join(preproc_root, 'sub-101410', 'fmap')) "
   ]
  },
  {
   "cell_type": "code",
   "execution_count": 5,
   "metadata": {},
   "outputs": [
    {
     "name": "stdout",
     "output_type": "stream",
     "text": [
      "|subject101410/\n",
      "|--- dataset_description.md\n",
      "|--- task-motor_bold.json\n",
      "|--- T1w/\n",
      "|------ T1w.nii.gz\n",
      "|--- derivatives/\n",
      "|------ preprocessed_data/\n",
      "|--------- sub-101410/\n",
      "|------------ anat/\n",
      "|--------------- sub-101410_T1w.nii.gz\n",
      "|--------------- sub-101410_T1w_fast_mixeltype.nii.gz\n",
      "|--------------- sub-101410_T1w_fast_pve_0.nii.gz\n",
      "|--------------- sub-101410_T1w_fast_pve_1.nii.gz\n",
      "|--------------- sub-101410_T1w_fast_pve_2.nii.gz\n",
      "|--------------- sub-101410_T1w_fast_pveseg.nii.gz\n",
      "|--------------- sub-101410_T1w_fast_seg.nii.gz\n",
      "|--------------- sub-101410_T1w_mask.nii.gz\n",
      "|------------ fmap/\n",
      "|------------ func/\n",
      "|--- fMRI/\n",
      "|------ tfMRI_MOTOR_LR/\n",
      "|--------- events_LR.csv\n",
      "|--------- tfMRI_MOTOR_LR.nii\n",
      "|------ tfMRI_MOTOR_RL/\n",
      "|--------- events_RL.csv\n",
      "|--------- tfMRI_MOTOR_RL.nii\n",
      "|--- subject101410/\n"
     ]
    }
   ],
   "source": [
    "print_dir_tree(bids_root, max_depth=5)"
   ]
  },
  {
   "cell_type": "code",
   "execution_count": 5,
   "metadata": {},
   "outputs": [
    {
     "name": "stderr",
     "output_type": "stream",
     "text": [
      "\n",
      "(ipykernel_launcher.py:10244): Gdk-WARNING **: 15:06:25.888: gdkdrawable-x11.c:952 drawable is not a pixmap or window\n"
     ]
    }
   ],
   "source": [
    "# first visualisation\n",
    "fsleyesDisplay.resetOverlays()\n",
    "fsleyesDisplay.load(op.join(bids_root, 'T1w', 'T1w.nii.gz'))"
   ]
  },
  {
   "cell_type": "code",
   "execution_count": 6,
   "metadata": {},
   "outputs": [
    {
     "name": "stdout",
     "output_type": "stream",
     "text": [
      "/home/jovyan/data/subject101410/derivatives/preprocessed_data\n",
      "/home/jovyan/data/subject101410\n"
     ]
    }
   ],
   "source": [
    "print(preproc_root)\n",
    "print(bids_root)"
   ]
  },
  {
   "cell_type": "code",
   "execution_count": 6,
   "metadata": {},
   "outputs": [
    {
     "name": "stdout",
     "output_type": "stream",
     "text": [
      "Done with BET.\n"
     ]
    }
   ],
   "source": [
    "#skull-stripping\n",
    "def get_skull_stripped_anatomical(bids_root, preproc_root, subject_id, robust=False):\n",
    "    \"\"\"\n",
    "    Function to perform skull-stripping (removing the skull around the brain).\n",
    "    This is a simple wrapper around the brain extraction tool (BET) in FSL's suite\n",
    "    It assumes data to be in the BIDS format (which we will cover in the following weeks).\n",
    "    The method also saves the brain mask which was used to extract the brain.\n",
    "\n",
    "    The brain extraction is conducted only on the T1w of the participant.\n",
    "\n",
    "    Parameters\n",
    "    ----------\n",
    "    bids_root: string\n",
    "        The root of the BIDS directory\n",
    "    preproc_root: string\n",
    "        The root of the preprocessed data, where the result of the brain extraction will be saved.\n",
    "    subject_id: string\n",
    "        Subject ID, the subject on which brain extraction should be conducted.\n",
    "    robust: bool\n",
    "        Whether to conduct robust center estimation with BET or not. Default is False.\n",
    "    \"\"\"\n",
    "    # We perform here skull stripping (you'll learn more about it next week!).\n",
    "    # For now all you need to do is that we remove the bones and flesh from the MRI to get the brain!\n",
    "    subject = 'sub-{}'.format(subject_id)\n",
    "    anatomical_path = op.join(bids_root, 'T1w', 'T1w.nii.gz')\n",
    "    betted_brain_path = op.join(preproc_root, subject, 'anat', 'sub-{}_T1w'.format(subject_id))\n",
    "    os.system('bet {} {} -m {}'.format(anatomical_path, betted_brain_path, '-R' if robust else ''))\n",
    "    print(\"Done with BET.\")\n",
    "\n",
    "resulting_mask_path = op.join(preproc_root, 'sub-101410', 'anat', 'sub-101410_T1w_mask')\n",
    "get_skull_stripped_anatomical(bids_root, preproc_root, \"101410\")"
   ]
  },
  {
   "cell_type": "code",
   "execution_count": 8,
   "metadata": {},
   "outputs": [],
   "source": [
    "# brain mask visualisation\n",
    "fsleyesDisplay.load(resulting_mask_path)"
   ]
  },
  {
   "cell_type": "code",
   "execution_count": 7,
   "metadata": {},
   "outputs": [
    {
     "name": "stdout",
     "output_type": "stream",
     "text": [
      "Done with BET.\n"
     ]
    }
   ],
   "source": [
    "# robust skull stripping\n",
    "get_skull_stripped_anatomical(bids_root, preproc_root, \"101410\", robust = True)"
   ]
  },
  {
   "cell_type": "code",
   "execution_count": 8,
   "metadata": {},
   "outputs": [],
   "source": [
    "fsleyesDisplay.resetOverlays()\n",
    "fsleyesDisplay.load(op.join(bids_root, 'T1w', 'T1w.nii.gz'))\n",
    "fsleyesDisplay.load(resulting_mask_path)"
   ]
  },
  {
   "cell_type": "code",
   "execution_count": 9,
   "metadata": {},
   "outputs": [],
   "source": [
    "# applying the mask to the data to create the skull striped version and save it\n",
    "def apply_fsl_math_approach(img_path, mask_path, masked_img_path):\n",
    "    os.system('fslmaths {} -mas {} {}'.format(img_path, mask_path, masked_img_path))\n",
    "    \n",
    "\n",
    "anatomical_path = op.join(bids_root, 'T1w', 'T1w.nii.gz') # The original brain\n",
    "betted_brain_path = op.join(preproc_root, 'sub-101410', 'anat', 'sub-101410_T1w.nii.gz') # The brain without skull is in the derivatives folder\n",
    "resulting_mask_path = op.join(preproc_root, 'sub-101410', 'anat', 'sub-101410_T1w_mask.nii.gz') # The mask to use\n",
    "\n",
    "\n",
    "apply_fsl_math_approach(anatomical_path, resulting_mask_path, betted_brain_path)\n"
   ]
  },
  {
   "cell_type": "code",
   "execution_count": 10,
   "metadata": {},
   "outputs": [
    {
     "name": "stdout",
     "output_type": "stream",
     "text": [
      "|subject101410/\n",
      "|--- dataset_description.md\n",
      "|--- task-motor_bold.json\n",
      "|--- T1w/\n",
      "|------ T1w.nii.gz\n",
      "|--- derivatives/\n",
      "|------ preprocessed_data/\n",
      "|--------- sub-101410/\n",
      "|------------ anat/\n",
      "|--------------- sub-101410_T1w.nii.gz\n",
      "|--------------- sub-101410_T1w_fast_mixeltype.nii.gz\n",
      "|--------------- sub-101410_T1w_fast_pve_0.nii.gz\n",
      "|--------------- sub-101410_T1w_fast_pve_1.nii.gz\n",
      "|--------------- sub-101410_T1w_fast_pve_2.nii.gz\n",
      "|--------------- sub-101410_T1w_fast_pveseg.nii.gz\n",
      "|--------------- sub-101410_T1w_fast_seg.nii.gz\n",
      "|--------------- sub-101410_T1w_mask.nii.gz\n",
      "|------------ fmap/\n",
      "|------------ func/\n",
      "|--- fMRI/\n",
      "|------ tfMRI_MOTOR_LR/\n",
      "|--------- events_LR.csv\n",
      "|--------- tfMRI_MOTOR_LR.nii\n",
      "|------ tfMRI_MOTOR_RL/\n",
      "|--------- events_RL.csv\n",
      "|--------- tfMRI_MOTOR_RL.nii\n",
      "|--- subject101410/\n"
     ]
    }
   ],
   "source": [
    "print_dir_tree(bids_root, max_depth=5)"
   ]
  },
  {
   "cell_type": "code",
   "execution_count": 11,
   "metadata": {},
   "outputs": [],
   "source": [
    "fsleyesDisplay.resetOverlays()\n",
    "fsleyesDisplay.load(betted_brain_path)"
   ]
  },
  {
   "cell_type": "code",
   "execution_count": 12,
   "metadata": {},
   "outputs": [],
   "source": [
    "# tissue segmentation, prend long la première fois désolé coline et greg\n",
    "fast_target = betted_brain_path\n",
    "\n",
    "segmentation_path = op.join(preproc_root, 'sub-101410', 'anat', 'sub-101410_T1w_fast')\n",
    "\n",
    "\n",
    "if not os.path.exists(segmentation_path + \"_seg.nii.gz\"):\n",
    "    fast(imgs=[fast_target], out=segmentation_path, n_classes=3)"
   ]
  },
  {
   "cell_type": "code",
   "execution_count": 13,
   "metadata": {},
   "outputs": [
    {
     "name": "stdout",
     "output_type": "stream",
     "text": [
      "|subject101410/\n",
      "|--- dataset_description.md\n",
      "|--- task-motor_bold.json\n",
      "|--- T1w/\n",
      "|------ T1w.nii.gz\n",
      "|--- derivatives/\n",
      "|------ preprocessed_data/\n",
      "|--------- sub-101410/\n",
      "|------------ anat/\n",
      "|--------------- sub-101410_T1w.nii.gz\n",
      "|--------------- sub-101410_T1w_fast_mixeltype.nii.gz\n",
      "|--------------- sub-101410_T1w_fast_pve_0.nii.gz\n",
      "|--------------- sub-101410_T1w_fast_pve_1.nii.gz\n",
      "|--------------- sub-101410_T1w_fast_pve_2.nii.gz\n",
      "|--------------- sub-101410_T1w_fast_pveseg.nii.gz\n",
      "|--------------- sub-101410_T1w_fast_seg.nii.gz\n",
      "|--------------- sub-101410_T1w_mask.nii.gz\n",
      "|------------ fmap/\n",
      "|------------ func/\n",
      "|--- fMRI/\n",
      "|------ tfMRI_MOTOR_LR/\n",
      "|--------- events_LR.csv\n",
      "|--------- tfMRI_MOTOR_LR.nii\n",
      "|------ tfMRI_MOTOR_RL/\n",
      "|--------- events_RL.csv\n",
      "|--------- tfMRI_MOTOR_RL.nii\n",
      "|--- subject101410/\n"
     ]
    }
   ],
   "source": [
    "print_dir_tree(bids_root, max_depth=5)"
   ]
  },
  {
   "cell_type": "code",
   "execution_count": 14,
   "metadata": {},
   "outputs": [],
   "source": [
    "#  afficher les differents tissus segmentés en couleur slay\n",
    "fsleyesDisplay.resetOverlays()\n",
    "fsleyesDisplay.load(betted_brain_path)\n",
    "fsleyesDisplay.load(glob.glob(op.join(preproc_root, 'sub-101410', 'anat','*pve_0*'))[0])\n",
    "fsleyesDisplay.load(glob.glob(op.join(preproc_root, 'sub-101410', 'anat','*pve_1*'))[0])\n",
    "fsleyesDisplay.load(glob.glob(op.join(preproc_root, 'sub-101410', 'anat','*pve_2*'))[0])\n",
    "fsleyesDisplay.displayCtx.getOpts(fsleyesDisplay.overlayList[1]).cmap = 'Red'\n",
    "fsleyesDisplay.displayCtx.getOpts(fsleyesDisplay.overlayList[2]).cmap = 'Green'\n",
    "fsleyesDisplay.displayCtx.getOpts(fsleyesDisplay.overlayList[3]).cmap = 'Blue'"
   ]
  },
  {
   "cell_type": "code",
   "execution_count": 1,
   "metadata": {},
   "outputs": [
    {
     "ename": "NameError",
     "evalue": "name 'op' is not defined",
     "output_type": "error",
     "traceback": [
      "\u001b[0;31m---------------------------------------------------------------------------\u001b[0m",
      "\u001b[0;31mNameError\u001b[0m                                 Traceback (most recent call last)",
      "Cell \u001b[0;32mIn[1], line 2\u001b[0m\n\u001b[1;32m      1\u001b[0m \u001b[38;5;66;03m# concatenation, nibabel, careful when bringing back \u001b[39;00m\n\u001b[0;32m----> 2\u001b[0m path_run1 \u001b[38;5;241m=\u001b[39m \u001b[43mop\u001b[49m\u001b[38;5;241m.\u001b[39mjoin(bids_root, \u001b[38;5;124m\"\u001b[39m\u001b[38;5;124mfMRI\u001b[39m\u001b[38;5;124m\"\u001b[39m, \u001b[38;5;124m\"\u001b[39m\u001b[38;5;124mtfMRI_MOTOR_LR\u001b[39m\u001b[38;5;124m\"\u001b[39m, \u001b[38;5;124m\"\u001b[39m\u001b[38;5;124mtfMRI_MOTOR_LR.nii\u001b[39m\u001b[38;5;124m\"\u001b[39m)\n\u001b[1;32m      3\u001b[0m path_run2 \u001b[38;5;241m=\u001b[39m op\u001b[38;5;241m.\u001b[39mjoin(bids_root, \u001b[38;5;124m\"\u001b[39m\u001b[38;5;124mfMRI\u001b[39m\u001b[38;5;124m\"\u001b[39m, \u001b[38;5;124m\"\u001b[39m\u001b[38;5;124mtfMRI_MOTOR_RL\u001b[39m\u001b[38;5;124m\"\u001b[39m, \u001b[38;5;124m\"\u001b[39m\u001b[38;5;124mtfMRI_MOTOR_RL.nii\u001b[39m\u001b[38;5;124m\"\u001b[39m)\n\u001b[1;32m      4\u001b[0m out_dir \u001b[38;5;241m=\u001b[39m op\u001b[38;5;241m.\u001b[39mjoin(preproc_root, \u001b[38;5;124m\"\u001b[39m\u001b[38;5;124msub-101410\u001b[39m\u001b[38;5;124m\"\u001b[39m, \u001b[38;5;124m\"\u001b[39m\u001b[38;5;124mfunc\u001b[39m\u001b[38;5;124m\"\u001b[39m)\n",
      "\u001b[0;31mNameError\u001b[0m: name 'op' is not defined"
     ]
    }
   ],
   "source": [
    "# concatenation, d'abord on transforme en np.array pour plus facilement rescale\n",
    "path_runLR = op.join(bids_root, \"fMRI\", \"tfMRI_MOTOR_LR\", \"tfMRI_MOTOR_LR.nii\")\n",
    "path_runRL = op.join(bids_root, \"fMRI\", \"tfMRI_MOTOR_RL\", \"tfMRI_MOTOR_RL.nii\")\n",
    "out_dir = op.join(preproc_root, \"sub-101410\", \"func\")\n",
    "imgLR = nib.load(path_runLR)\n",
    "imgRL = nib.load(path_runRL)\n",
    "\n",
    "dataLR = imgLR.get_fdata()\n",
    "dataRL = imgRL.get_fdata()\n",
    "\n",
    "# mtn il faut rescale puis concatenate puis correctement remettre en file Nifti\n"
   ]
  },
  {
   "cell_type": "code",
   "execution_count": null,
   "metadata": {},
   "outputs": [],
   "source": []
  }
 ],
 "metadata": {
  "kernelspec": {
   "display_name": "Python 3 (ipykernel)",
   "language": "python",
   "name": "python3"
  },
  "language_info": {
   "codemirror_mode": {
    "name": "ipython",
    "version": 3
   },
   "file_extension": ".py",
   "mimetype": "text/x-python",
   "name": "python",
   "nbconvert_exporter": "python",
   "pygments_lexer": "ipython3",
   "version": "3.11.6"
  }
 },
 "nbformat": 4,
 "nbformat_minor": 4
}
