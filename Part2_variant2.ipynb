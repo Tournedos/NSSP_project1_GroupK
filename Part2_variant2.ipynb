{
 "cells": [
  {
   "cell_type": "code",
   "execution_count": 2,
   "id": "4c307a94-c5df-4066-951a-a7de310e88a2",
   "metadata": {},
   "outputs": [],
   "source": [
    "import sys\n",
    "import os\n",
    "\n",
    "#####################\n",
    "# Import of utils.py functions\n",
    "#####################\n",
    "# Required to get utils.py and access its functions\n",
    "notebook_dir = os.path.abspath(\"\")\n",
    "parent_dir = os.path.abspath(os.path.join(notebook_dir, '..'))\n",
    "sys.path.append(parent_dir)\n",
    "sys.path.append('.')\n",
    "from utils import loadFSL, FSLeyesServer, mkdir_no_exist\n",
    "\n",
    "#############################\n",
    "# Loading fsl and freesurfer within Neurodesk\n",
    "# You can find the list of available other modules by clicking on the \"Softwares\" tab on the left\n",
    "#############################\n",
    "import lmod\n",
    "await lmod.purge(force=True)\n",
    "await lmod.load('fsl/6.0.7.4')\n",
    "await lmod.load('freesurfer/7.4.1')\n",
    "await lmod.list()\n",
    "\n",
    "####################\n",
    "# Setup FSL path\n",
    "####################\n",
    "loadFSL()\n",
    "\n",
    "####################\n",
    "# DIPY_HOME should be set prior to import of dipy to make sure all downloads point to the right folder\n",
    "####################\n",
    "os.environ[\"DIPY_HOME\"] = \"/home/jovyan/Data\"\n",
    "\n",
    "###################\n",
    "# Load other relevant libraries\n",
    "##################\n",
    "import fsl.wrappers, statsmodels\n",
    "from fsl.wrappers import fslmaths\n",
    "import dipy\n",
    "import os.path as op\n",
    "import nibabel as nib\n",
    "from mne_bids import BIDSPath, read_raw_bids, print_dir_tree, make_report\n",
    "import numpy as np\n",
    "import pandas as pd\n",
    "import statsmodels.api as sm\n",
    "import statsmodels.formula.api as smf\n",
    "from statsmodels.tools.sm_exceptions import ConvergenceWarning\n",
    "from nilearn import plotting\n",
    "from sklearn.decomposition import FastICA"
   ]
  },
  {
   "cell_type": "code",
   "execution_count": 7,
   "id": "03475c14-0ca6-4f5e-99b9-941108e65b35",
   "metadata": {},
   "outputs": [],
   "source": [
    "# Loading data, preprocessed data (smoothed) as fmri_img"
   ]
  },
  {
   "cell_type": "code",
   "execution_count": 3,
   "id": "85ada276-e608-44cc-aafd-6530c762dfd9",
   "metadata": {},
   "outputs": [],
   "source": [
    "# organisation of directory and creation of preprocessing folders\n",
    "dataset_id = 'subject101410'\n",
    "subject = '101410' \n",
    "\n",
    "sample_path = \"/home/jovyan/data\"\n",
    "mkdir_no_exist(sample_path)\n",
    "bids_root = op.join(sample_path, dataset_id)\n",
    "deriv_root = op.join(bids_root, 'derivatives')\n",
    "preproc_root = op.join(bids_root, 'derivatives','preprocessed_data')\n",
    "\n",
    "mkdir_no_exist(bids_root)\n",
    "\n",
    "subject_dir = 'sub-{}'.format(subject)\n",
    "\n",
    "\n",
    "\n",
    "###################\n",
    "# Create folders relevant for preprocessing.\n",
    "# In BIDs, ANYTHING we modify must go in the derivatives folder, to keep original files clean in case we make a mistake.\n",
    "###################\n",
    "mkdir_no_exist(op.join(bids_root, 'derivatives'))\n",
    "preproc_root = op.join(bids_root, 'derivatives','preprocessed_data')\n",
    "mkdir_no_exist(preproc_root)\n",
    "mkdir_no_exist(op.join(preproc_root, 'sub-101410'))\n",
    "mkdir_no_exist(op.join(preproc_root, 'sub-101410', 'anat'))\n",
    "mkdir_no_exist(op.join(preproc_root, 'sub-101410', 'func'))\n",
    "mkdir_no_exist(op.join(preproc_root, 'sub-101410', 'fmap')) "
   ]
  },
  {
   "cell_type": "code",
   "execution_count": 4,
   "id": "71eb0bd8-ad3c-4cce-84ad-f5ef5a9dfa13",
   "metadata": {},
   "outputs": [],
   "source": [
    "# get preprocessed fMRI image\n",
    "\n",
    "smoothed_path = op.join(preproc_root, \"sub-101410\", \"func\", \"sub-101410_task-motor_concat_varnorm_moco_smoothed-6mm.nii.gz\")\n",
    "fmri_img = nib.load(smoothed_path)"
   ]
  },
  {
   "cell_type": "code",
   "execution_count": null,
   "id": "fd98592a-48bd-4ee9-ac64-cd43f8ee1bd5",
   "metadata": {},
   "outputs": [],
   "source": [
    "# Apply ICA on the subject fMRI runs, considering one volume as one sample."
   ]
  },
  {
   "cell_type": "code",
   "execution_count": 5,
   "id": "23025e73-a269-4529-9452-dc023bff26b3",
   "metadata": {},
   "outputs": [
    {
     "name": "stdout",
     "output_type": "stream",
     "text": [
      "fMRI data shape: (91, 109, 91, 568) (x,y,z,time)\n"
     ]
    }
   ],
   "source": [
    "# --- Get data as NumPy array ---\n",
    "data = fmri_img.get_fdata()  # shape: (nx, ny, nz, nTRs)\n",
    "nx, ny, nz, nTRs = data.shape\n",
    "print(f\"fMRI data shape: {data.shape} (x,y,z,time)\")"
   ]
  },
  {
   "cell_type": "code",
   "execution_count": 6,
   "id": "ba0364e1-0e9b-4bd7-9846-279b74f0d2fb",
   "metadata": {},
   "outputs": [
    {
     "name": "stdout",
     "output_type": "stream",
     "text": [
      "X shape for ICA (samples x features): (568, 902629)\n"
     ]
    }
   ],
   "source": [
    "# --- Reshape for spatial ICA ---\n",
    "# Each volume = one sample, each voxel = one feature\n",
    "X = data.reshape(-1, nTRs).T  # shape (nTRs, nx*ny*nz)\n",
    "print(f\"X shape for ICA (samples x features): {X.shape}\")"
   ]
  },
  {
   "cell_type": "code",
   "execution_count": 7,
   "id": "e673c031-8a2f-469a-ab5c-e37178f03af0",
   "metadata": {},
   "outputs": [],
   "source": [
    "# --- Set number of components ---\n",
    "n_components = 20  # justify in your report (10-30 typical for single-subject fMRI)"
   ]
  },
  {
   "cell_type": "code",
   "execution_count": null,
   "id": "9fcaf8f1-5c09-47ce-987b-013d2a8a8517",
   "metadata": {},
   "outputs": [],
   "source": [
    "# --- Run spatial ICA ---\n",
    "ica = FastICA(n_components=n_components, random_state=0)\n",
    "S = ica.fit_transform(X)       # shape: (nTRs, n_components) → timecourses\n",
    "A = ica.mixing_                # shape: (n_voxels, n_components) → spatial maps\n",
    "print(f\"S (timecourses) shape: {S.shape}\")\n",
    "print(f\"A (spatial maps) shape: {A.shape}\")"
   ]
  }
 ],
 "metadata": {
  "kernelspec": {
   "display_name": "Python 3 (ipykernel)",
   "language": "python",
   "name": "python3"
  },
  "language_info": {
   "codemirror_mode": {
    "name": "ipython",
    "version": 3
   },
   "file_extension": ".py",
   "mimetype": "text/x-python",
   "name": "python",
   "nbconvert_exporter": "python",
   "pygments_lexer": "ipython3",
   "version": "3.11.6"
  }
 },
 "nbformat": 4,
 "nbformat_minor": 5
}
